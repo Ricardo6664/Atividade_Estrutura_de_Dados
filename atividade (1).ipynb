{
  "nbformat": 4,
  "nbformat_minor": 0,
  "metadata": {
    "colab": {
      "provenance": []
    },
    "kernelspec": {
      "name": "python3",
      "display_name": "Python 3"
    },
    "language_info": {
      "name": "python"
    }
  },
  "cells": [
    {
      "cell_type": "code",
      "execution_count": null,
      "metadata": {
        "colab": {
          "base_uri": "https://localhost:8080/"
        },
        "id": "Arwv4ls8-NOj",
        "outputId": "cadc3bd5-712c-4bc6-c186-745652aa1e93"
      },
      "outputs": [
        {
          "output_type": "stream",
          "name": "stdout",
          "text": [
            "Informe o nome do aluno: ricardo\n",
            "Digite a materia:pt\n",
            "Digite a nota de: 4\n",
            "Digite a materia:mat\n",
            "Digite a nota de: 7\n",
            "Digite a materia:his\n",
            "Digite a nota de: 9\n",
            "{'pt': 4.0, 'mat': 7.0, 'his': 9.0}\n",
            "A media das notas do aluno ricardo é 6.67\n"
          ]
        }
      ],
      "source": [
        "# 1\n",
        "\n",
        "notas_aluno ={}\n",
        "\n",
        "nome_aluno = input(\"Informe o nome do aluno: \").lower()\n",
        "materia_1 = input('Digite a materia:')\n",
        "nota_1 = float(input('Digite a nota de: '))\n",
        "notas_aluno[materia_1] = nota_1\n",
        "\n",
        "materia_2 = input('Digite a materia:')\n",
        "nota_2 = float(input('Digite a nota de: '))\n",
        "notas_aluno[materia_2] = nota_2\n",
        "\n",
        "materia_3 = input('Digite a materia:')\n",
        "nota_3 = float(input('Digite a nota de: '))\n",
        "notas_aluno[materia_3] = nota_3\n",
        "media = round((nota_1 + nota_2 + nota_3) / 3,2)\n",
        "print(notas_aluno)\n",
        "print('A media das notas do aluno',nome_aluno,'é',media)"
      ]
    },
    {
      "cell_type": "code",
      "source": [
        "# 2\n",
        "tarefas = {}\n",
        "tarefas.clear()\n",
        "indice = int(input('Quantas atividades quer descrever ? '))\n",
        "while indice != 0:\n",
        "    nome_tarefa = input('Digite a atividade: ')\n",
        "    descri = input('Dê uma descrição da tarefa: ')\n",
        "    prioridade = input('Qual a prioridade(baixa,media,alta): ')\n",
        "    tarefas[nome_tarefa] = prioridade,descri\n",
        "    indice -= 1\n",
        "print(tarefas)"
      ],
      "metadata": {
        "colab": {
          "base_uri": "https://localhost:8080/"
        },
        "id": "5HJrZllN_4M8",
        "outputId": "769a181b-d929-4cf6-87a6-374360d6be39"
      },
      "execution_count": null,
      "outputs": [
        {
          "output_type": "stream",
          "name": "stdout",
          "text": [
            "Digite a atividade: rezar\n",
            "Dê uma descrição da tarefa: falar com pai do céu\n",
            "Qual a prioridade(baixa,media,alta): alta\n",
            "Digite a atividade: comer\n",
            "Dê uma descrição da tarefa: colocar alimento para dentro\n",
            "Qual a prioridade(baixa,media,alta): media\n",
            "Digite a atividade: dsasd\n",
            "Dê uma descrição da tarefa: gfgfeg\n",
            "Qual a prioridade(baixa,media,alta): baixa\n",
            "Digite a atividade: fwefw\n",
            "Dê uma descrição da tarefa: lklkl\n",
            "Qual a prioridade(baixa,media,alta): alta\n",
            "Digite a atividade: wweqwe\n",
            "Dê uma descrição da tarefa: sdfasdf\n",
            "Qual a prioridade(baixa,media,alta): baixa\n",
            "{'rezar': ('alta', 'falar com pai do céu'), 'comer': ('media', 'colocar alimento para dentro'), 'dsasd': ('baixa', 'gfgfeg'), 'fwefw': ('alta', 'lklkl'), 'wweqwe': ('baixa', 'sdfasdf')}\n"
          ]
        }
      ]
    },
    {
      "cell_type": "code",
      "source": [
        "#3 Crie um dicionário com o nome e a idade de três pessoas. Imprima na tela o nome e a idade da\n",
        "# pessoa mais velha.\n",
        "\n",
        "nome_idade = {}\n",
        "i = 3\n",
        "while i != 0:\n",
        "    nome = input('Digite o nome : ')\n",
        "    idade = int(input('Digite a idade: '))\n",
        "    nome_idade[nome] = idade\n",
        "    i -= 1\n",
        "\n",
        "valores = []\n",
        "for x in nome_idade:"
      ],
      "metadata": {
        "colab": {
          "base_uri": "https://localhost:8080/"
        },
        "id": "qjyyrHcbF3aV",
        "outputId": "0530f49e-55b6-4bba-9793-20c56bc6c7d4"
      },
      "execution_count": null,
      "outputs": [
        {
          "output_type": "stream",
          "name": "stdout",
          "text": [
            "Digite o nome : rer\n",
            "Digite a idade: 2314\n",
            "Digite o nome : sf\n",
            "Digite a idade: 345\n",
            "Digite o nome : df\n",
            "Digite a idade: 45\n",
            "[('rer', [2314]), ('sf', [345]), ('df', [45])]\n"
          ]
        }
      ]
    },
    {
      "cell_type": "code",
      "source": [
        "# 5  Crie um dicionário que represente uma lista de compras de supermercado. Cada item da lista deve\n",
        "# ter um nome e um preço. Peça ao usuário para informar um novo item e o seu preço, e adicione-o\n",
        "# ao dicionário. Em seguida, imprima na tela a lista completa de compras, com os nomes e preços\n",
        "# de todos os itens.\n",
        "\n",
        "listacompras = {}\n",
        "\n",
        "ind = int(input('Quantos itens irá adicionar: '))\n",
        "\n",
        "while ind != 0:\n",
        "    nome_item = input('Digite o produto: ')\n",
        "    valor_item = float(input('Digite o preço: '))\n",
        "    listacompras[nome_item] = valor_item\n",
        "    print(listacompras)\n",
        "    ind -= 1"
      ],
      "metadata": {
        "colab": {
          "base_uri": "https://localhost:8080/"
        },
        "id": "bJrFyRieMQ8C",
        "outputId": "aeae14eb-3fdc-4f5f-922f-9b924924c5bb"
      },
      "execution_count": null,
      "outputs": [
        {
          "output_type": "stream",
          "name": "stdout",
          "text": [
            "Quantos itens irá adicionar: 3\n",
            "Digite o produto: laranja\n",
            "Digite o preço: 3\n",
            "{'laranja': 3.0}\n",
            "Digite o produto: morango\n",
            "Digite o preço: 40\n",
            "{'laranja': 3.0, 'morango': 40.0}\n",
            "Digite o produto: leite\n",
            "Digite o preço: 10\n",
            "{'laranja': 3.0, 'morango': 40.0, 'leite': 10.0}\n"
          ]
        }
      ]
    }
  ]
}